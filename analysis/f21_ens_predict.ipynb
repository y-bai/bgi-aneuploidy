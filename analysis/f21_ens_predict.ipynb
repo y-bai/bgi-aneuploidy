{
 "cells": [
  {
   "cell_type": "code",
   "execution_count": 1,
   "metadata": {},
   "outputs": [],
   "source": [
    "import os\n",
    "import numpy as np\n",
    "import pandas as pd\n",
    "\n",
    "import joblib\n",
    "import sys\n",
    "sys.path.append('..')\n",
    "from utils import get_config\n",
    "from ensemble import read_features, load_independent_data"
   ]
  },
  {
   "cell_type": "code",
   "execution_count": 3,
   "metadata": {},
   "outputs": [],
   "source": [
    "from sklearn.metrics import plot_roc_curve\n",
    "from sklearn.metrics import plot_precision_recall_curve\n",
    "from sklearn.metrics import plot_precision_recall_curve\n",
    "from sklearn.metrics import plot_confusion_matrix\n",
    "from sklearn.metrics import roc_curve, precision_recall_curve, auc, make_scorer, recall_score\n",
    "from sklearn.metrics import accuracy_score, precision_score, confusion_matrix\n"
   ]
  },
  {
   "cell_type": "code",
   "execution_count": 4,
   "metadata": {},
   "outputs": [],
   "source": [
    "import seaborn as sns\n",
    "import matplotlib.pyplot as plt\n",
    "rc={'font.size': 14, 'axes.labelsize': 14, 'legend.fontsize': 14.0, \n",
    "    'axes.titlesize': 14, 'xtick.labelsize': 14, 'ytick.labelsize': 14, 'figure.figsize':(8,6)}\n",
    "flatui = [\"#9b59b6\", \"#3498db\", \"#95a5a6\", \"#e74c3c\", \"#34495e\", \"#2ecc71\"]\n",
    "sns.set(style='ticks',rc=rc)"
   ]
  },
  {
   "cell_type": "code",
   "execution_count": 5,
   "metadata": {},
   "outputs": [],
   "source": [
    "chr = '21'\n",
    "data_root_dir = get_config()['data_dir']['data_root_dir']"
   ]
  },
  {
   "cell_type": "code",
   "execution_count": 6,
   "metadata": {},
   "outputs": [],
   "source": [
    "ens_model_fname = os.path.join(data_root_dir, \n",
    "                               'model_update/ensemble_model_chr{}.pkl'.format(chr))\n",
    "ens_model = joblib.load(ens_model_fname)"
   ]
  },
  {
   "cell_type": "markdown",
   "metadata": {},
   "source": [
    "# predict on test dataset"
   ]
  },
  {
   "cell_type": "code",
   "execution_count": 7,
   "metadata": {},
   "outputs": [],
   "source": [
    "# read test \n",
    "_, test_df = read_features(reload=True, chr=chr)\n",
    "# fp_df = load_independent_data(seq_type='fp', chr='21', reload=True)\n",
    "# fp_df.loc[:,'LABEL'] = 0\n",
    "# fp_df = fp_df[list(test_df_.columns)]\n",
    "\n",
    "# fn_df = load_independent_data(seq_type='fn', chr='21', reload=True)\n",
    "# fn_df.loc[:,'LABEL'] = 1\n",
    "# fn_df = fn_df[list(test_df_.columns)]\n",
    "# # # use_col = ['SEQ_F_0', 'SEQ_F_1', 'SEQ_F_2', 'SEQ_F_3', 'SEQ_F_4', 'SEQ_F_5', 'SEQ_F_6',\n",
    "# # #      'SEQ_F_7', 'Sample_id', 'LABEL']\n",
    "# # # test_df = test_df_[use_col].copy()\n",
    "# test_df = pd.concat([test_df_, fp_df, fn_df], ignore_index=True)"
   ]
  },
  {
   "cell_type": "code",
   "execution_count": 8,
   "metadata": {},
   "outputs": [
    {
     "data": {
      "text/html": [
       "<div>\n",
       "<style scoped>\n",
       "    .dataframe tbody tr th:only-of-type {\n",
       "        vertical-align: middle;\n",
       "    }\n",
       "\n",
       "    .dataframe tbody tr th {\n",
       "        vertical-align: top;\n",
       "    }\n",
       "\n",
       "    .dataframe thead th {\n",
       "        text-align: right;\n",
       "    }\n",
       "</style>\n",
       "<table border=\"1\" class=\"dataframe\">\n",
       "  <thead>\n",
       "    <tr style=\"text-align: right;\">\n",
       "      <th></th>\n",
       "      <th>AGE</th>\n",
       "      <th>HEIGHT</th>\n",
       "      <th>WEIGHT</th>\n",
       "      <th>GESTATIONAL_WEEKS_D</th>\n",
       "      <th>FF</th>\n",
       "      <th>BMI</th>\n",
       "      <th>LABEL</th>\n",
       "      <th>SEQ_F_0</th>\n",
       "      <th>SEQ_F_1</th>\n",
       "      <th>SEQ_F_2</th>\n",
       "      <th>SEQ_F_3</th>\n",
       "      <th>SEQ_F_4</th>\n",
       "      <th>SEQ_F_5</th>\n",
       "      <th>SEQ_F_6</th>\n",
       "      <th>SEQ_F_7</th>\n",
       "      <th>Sample_id</th>\n",
       "    </tr>\n",
       "  </thead>\n",
       "  <tbody>\n",
       "    <tr>\n",
       "      <th>0</th>\n",
       "      <td>-0.825061</td>\n",
       "      <td>-1.893544</td>\n",
       "      <td>-0.097801</td>\n",
       "      <td>1.184232</td>\n",
       "      <td>0.463979</td>\n",
       "      <td>0.666091</td>\n",
       "      <td>1</td>\n",
       "      <td>-0.978409</td>\n",
       "      <td>-1.574606</td>\n",
       "      <td>1.527259</td>\n",
       "      <td>1.284538</td>\n",
       "      <td>0.611944</td>\n",
       "      <td>-0.824956</td>\n",
       "      <td>1.060096</td>\n",
       "      <td>-1.306827</td>\n",
       "      <td>17B4487652</td>\n",
       "    </tr>\n",
       "    <tr>\n",
       "      <th>1</th>\n",
       "      <td>-0.142109</td>\n",
       "      <td>0.022015</td>\n",
       "      <td>0.272161</td>\n",
       "      <td>0.772670</td>\n",
       "      <td>0.205807</td>\n",
       "      <td>0.296246</td>\n",
       "      <td>1</td>\n",
       "      <td>-1.273888</td>\n",
       "      <td>-1.310434</td>\n",
       "      <td>1.725421</td>\n",
       "      <td>1.107274</td>\n",
       "      <td>1.486313</td>\n",
       "      <td>-0.219594</td>\n",
       "      <td>1.966216</td>\n",
       "      <td>-1.210229</td>\n",
       "      <td>18B2676665</td>\n",
       "    </tr>\n",
       "    <tr>\n",
       "      <th>2</th>\n",
       "      <td>0.973694</td>\n",
       "      <td>0.022015</td>\n",
       "      <td>0.730668</td>\n",
       "      <td>-1.439478</td>\n",
       "      <td>0.197158</td>\n",
       "      <td>0.794199</td>\n",
       "      <td>1</td>\n",
       "      <td>-1.402076</td>\n",
       "      <td>-0.756952</td>\n",
       "      <td>0.532459</td>\n",
       "      <td>-0.342890</td>\n",
       "      <td>0.932986</td>\n",
       "      <td>-0.264235</td>\n",
       "      <td>0.461367</td>\n",
       "      <td>-0.300581</td>\n",
       "      <td>17B1209425</td>\n",
       "    </tr>\n",
       "    <tr>\n",
       "      <th>3</th>\n",
       "      <td>-1.105778</td>\n",
       "      <td>1.348893</td>\n",
       "      <td>-0.546154</td>\n",
       "      <td>0.772670</td>\n",
       "      <td>2.275303</td>\n",
       "      <td>-1.011085</td>\n",
       "      <td>1</td>\n",
       "      <td>-1.534604</td>\n",
       "      <td>-1.538409</td>\n",
       "      <td>1.986762</td>\n",
       "      <td>0.825670</td>\n",
       "      <td>2.254098</td>\n",
       "      <td>-0.454051</td>\n",
       "      <td>2.030720</td>\n",
       "      <td>-1.482961</td>\n",
       "      <td>18B2434305</td>\n",
       "    </tr>\n",
       "    <tr>\n",
       "      <th>4</th>\n",
       "      <td>1.973631</td>\n",
       "      <td>0.301207</td>\n",
       "      <td>0.455564</td>\n",
       "      <td>0.927006</td>\n",
       "      <td>-0.601678</td>\n",
       "      <td>0.383945</td>\n",
       "      <td>1</td>\n",
       "      <td>-1.300929</td>\n",
       "      <td>-0.725609</td>\n",
       "      <td>0.303036</td>\n",
       "      <td>-0.001922</td>\n",
       "      <td>0.300267</td>\n",
       "      <td>-1.435191</td>\n",
       "      <td>0.008830</td>\n",
       "      <td>-1.002342</td>\n",
       "      <td>18B2561586</td>\n",
       "    </tr>\n",
       "  </tbody>\n",
       "</table>\n",
       "</div>"
      ],
      "text/plain": [
       "        AGE    HEIGHT    WEIGHT  GESTATIONAL_WEEKS_D        FF       BMI  \\\n",
       "0 -0.825061 -1.893544 -0.097801             1.184232  0.463979  0.666091   \n",
       "1 -0.142109  0.022015  0.272161             0.772670  0.205807  0.296246   \n",
       "2  0.973694  0.022015  0.730668            -1.439478  0.197158  0.794199   \n",
       "3 -1.105778  1.348893 -0.546154             0.772670  2.275303 -1.011085   \n",
       "4  1.973631  0.301207  0.455564             0.927006 -0.601678  0.383945   \n",
       "\n",
       "   LABEL   SEQ_F_0   SEQ_F_1   SEQ_F_2   SEQ_F_3   SEQ_F_4   SEQ_F_5  \\\n",
       "0      1 -0.978409 -1.574606  1.527259  1.284538  0.611944 -0.824956   \n",
       "1      1 -1.273888 -1.310434  1.725421  1.107274  1.486313 -0.219594   \n",
       "2      1 -1.402076 -0.756952  0.532459 -0.342890  0.932986 -0.264235   \n",
       "3      1 -1.534604 -1.538409  1.986762  0.825670  2.254098 -0.454051   \n",
       "4      1 -1.300929 -0.725609  0.303036 -0.001922  0.300267 -1.435191   \n",
       "\n",
       "    SEQ_F_6   SEQ_F_7   Sample_id  \n",
       "0  1.060096 -1.306827  17B4487652  \n",
       "1  1.966216 -1.210229  18B2676665  \n",
       "2  0.461367 -0.300581  17B1209425  \n",
       "3  2.030720 -1.482961  18B2434305  \n",
       "4  0.008830 -1.002342  18B2561586  "
      ]
     },
     "execution_count": 8,
     "metadata": {},
     "output_type": "execute_result"
    }
   ],
   "source": [
    "test_df.head()"
   ]
  },
  {
   "cell_type": "code",
   "execution_count": 9,
   "metadata": {},
   "outputs": [
    {
     "name": "stdout",
     "output_type": "stream",
     "text": [
      "test data size: (281, 16)\n"
     ]
    },
    {
     "data": {
      "text/html": [
       "<div>\n",
       "<style scoped>\n",
       "    .dataframe tbody tr th:only-of-type {\n",
       "        vertical-align: middle;\n",
       "    }\n",
       "\n",
       "    .dataframe tbody tr th {\n",
       "        vertical-align: top;\n",
       "    }\n",
       "\n",
       "    .dataframe thead th {\n",
       "        text-align: right;\n",
       "    }\n",
       "</style>\n",
       "<table border=\"1\" class=\"dataframe\">\n",
       "  <thead>\n",
       "    <tr style=\"text-align: right;\">\n",
       "      <th></th>\n",
       "      <th>AGE</th>\n",
       "      <th>HEIGHT</th>\n",
       "      <th>WEIGHT</th>\n",
       "      <th>GESTATIONAL_WEEKS_D</th>\n",
       "      <th>FF</th>\n",
       "      <th>BMI</th>\n",
       "      <th>LABEL</th>\n",
       "      <th>SEQ_F_0</th>\n",
       "      <th>SEQ_F_1</th>\n",
       "      <th>SEQ_F_2</th>\n",
       "      <th>SEQ_F_3</th>\n",
       "      <th>SEQ_F_4</th>\n",
       "      <th>SEQ_F_5</th>\n",
       "      <th>SEQ_F_6</th>\n",
       "      <th>SEQ_F_7</th>\n",
       "      <th>Sample_id</th>\n",
       "    </tr>\n",
       "  </thead>\n",
       "  <tbody>\n",
       "    <tr>\n",
       "      <th>0</th>\n",
       "      <td>-0.825061</td>\n",
       "      <td>-1.893544</td>\n",
       "      <td>-0.097801</td>\n",
       "      <td>1.184232</td>\n",
       "      <td>0.463979</td>\n",
       "      <td>0.666091</td>\n",
       "      <td>1</td>\n",
       "      <td>-0.978409</td>\n",
       "      <td>-1.574606</td>\n",
       "      <td>1.527259</td>\n",
       "      <td>1.284538</td>\n",
       "      <td>0.611944</td>\n",
       "      <td>-0.824956</td>\n",
       "      <td>1.060096</td>\n",
       "      <td>-1.306827</td>\n",
       "      <td>17B4487652</td>\n",
       "    </tr>\n",
       "    <tr>\n",
       "      <th>1</th>\n",
       "      <td>-0.142109</td>\n",
       "      <td>0.022015</td>\n",
       "      <td>0.272161</td>\n",
       "      <td>0.772670</td>\n",
       "      <td>0.205807</td>\n",
       "      <td>0.296246</td>\n",
       "      <td>1</td>\n",
       "      <td>-1.273888</td>\n",
       "      <td>-1.310434</td>\n",
       "      <td>1.725421</td>\n",
       "      <td>1.107274</td>\n",
       "      <td>1.486313</td>\n",
       "      <td>-0.219594</td>\n",
       "      <td>1.966216</td>\n",
       "      <td>-1.210229</td>\n",
       "      <td>18B2676665</td>\n",
       "    </tr>\n",
       "    <tr>\n",
       "      <th>2</th>\n",
       "      <td>0.973694</td>\n",
       "      <td>0.022015</td>\n",
       "      <td>0.730668</td>\n",
       "      <td>-1.439478</td>\n",
       "      <td>0.197158</td>\n",
       "      <td>0.794199</td>\n",
       "      <td>1</td>\n",
       "      <td>-1.402076</td>\n",
       "      <td>-0.756952</td>\n",
       "      <td>0.532459</td>\n",
       "      <td>-0.342890</td>\n",
       "      <td>0.932986</td>\n",
       "      <td>-0.264235</td>\n",
       "      <td>0.461367</td>\n",
       "      <td>-0.300581</td>\n",
       "      <td>17B1209425</td>\n",
       "    </tr>\n",
       "    <tr>\n",
       "      <th>3</th>\n",
       "      <td>-1.105778</td>\n",
       "      <td>1.348893</td>\n",
       "      <td>-0.546154</td>\n",
       "      <td>0.772670</td>\n",
       "      <td>2.275303</td>\n",
       "      <td>-1.011085</td>\n",
       "      <td>1</td>\n",
       "      <td>-1.534604</td>\n",
       "      <td>-1.538409</td>\n",
       "      <td>1.986762</td>\n",
       "      <td>0.825670</td>\n",
       "      <td>2.254098</td>\n",
       "      <td>-0.454051</td>\n",
       "      <td>2.030720</td>\n",
       "      <td>-1.482961</td>\n",
       "      <td>18B2434305</td>\n",
       "    </tr>\n",
       "    <tr>\n",
       "      <th>4</th>\n",
       "      <td>1.973631</td>\n",
       "      <td>0.301207</td>\n",
       "      <td>0.455564</td>\n",
       "      <td>0.927006</td>\n",
       "      <td>-0.601678</td>\n",
       "      <td>0.383945</td>\n",
       "      <td>1</td>\n",
       "      <td>-1.300929</td>\n",
       "      <td>-0.725609</td>\n",
       "      <td>0.303036</td>\n",
       "      <td>-0.001922</td>\n",
       "      <td>0.300267</td>\n",
       "      <td>-1.435191</td>\n",
       "      <td>0.008830</td>\n",
       "      <td>-1.002342</td>\n",
       "      <td>18B2561586</td>\n",
       "    </tr>\n",
       "  </tbody>\n",
       "</table>\n",
       "</div>"
      ],
      "text/plain": [
       "        AGE    HEIGHT    WEIGHT  GESTATIONAL_WEEKS_D        FF       BMI  \\\n",
       "0 -0.825061 -1.893544 -0.097801             1.184232  0.463979  0.666091   \n",
       "1 -0.142109  0.022015  0.272161             0.772670  0.205807  0.296246   \n",
       "2  0.973694  0.022015  0.730668            -1.439478  0.197158  0.794199   \n",
       "3 -1.105778  1.348893 -0.546154             0.772670  2.275303 -1.011085   \n",
       "4  1.973631  0.301207  0.455564             0.927006 -0.601678  0.383945   \n",
       "\n",
       "   LABEL   SEQ_F_0   SEQ_F_1   SEQ_F_2   SEQ_F_3   SEQ_F_4   SEQ_F_5  \\\n",
       "0      1 -0.978409 -1.574606  1.527259  1.284538  0.611944 -0.824956   \n",
       "1      1 -1.273888 -1.310434  1.725421  1.107274  1.486313 -0.219594   \n",
       "2      1 -1.402076 -0.756952  0.532459 -0.342890  0.932986 -0.264235   \n",
       "3      1 -1.534604 -1.538409  1.986762  0.825670  2.254098 -0.454051   \n",
       "4      1 -1.300929 -0.725609  0.303036 -0.001922  0.300267 -1.435191   \n",
       "\n",
       "    SEQ_F_6   SEQ_F_7   Sample_id  \n",
       "0  1.060096 -1.306827  17B4487652  \n",
       "1  1.966216 -1.210229  18B2676665  \n",
       "2  0.461367 -0.300581  17B1209425  \n",
       "3  2.030720 -1.482961  18B2434305  \n",
       "4  0.008830 -1.002342  18B2561586  "
      ]
     },
     "execution_count": 9,
     "metadata": {},
     "output_type": "execute_result"
    }
   ],
   "source": [
    "print('test data size: {}'.format(test_df.shape))\n",
    "test_df.head()"
   ]
  },
  {
   "cell_type": "code",
   "execution_count": 10,
   "metadata": {},
   "outputs": [
    {
     "name": "stdout",
     "output_type": "stream",
     "text": [
      "[[-8.25061000e-01 -1.89354355e+00 -9.78006601e-02  1.18423221e+00\n",
      "   4.63978768e-01  6.66091152e-01 -9.78409333e-01 -1.57460636e+00\n",
      "   1.52725907e+00  1.28453800e+00  6.11943680e-01 -8.24956284e-01\n",
      "   1.06009603e+00 -1.30682691e+00]\n",
      " [-1.42108546e-01  2.20146814e-02  2.72160508e-01  7.72669835e-01\n",
      "   2.05806682e-01  2.96246464e-01 -1.27388849e+00 -1.31043352e+00\n",
      "   1.72542139e+00  1.10727449e+00  1.48631264e+00 -2.19593834e-01\n",
      "   1.96621587e+00 -1.21022875e+00]\n",
      " [ 9.73694464e-01  2.20146814e-02  7.30668428e-01 -1.43947791e+00\n",
      "   1.97157521e-01  7.94199142e-01 -1.40207567e+00 -7.56951584e-01\n",
      "   5.32459275e-01 -3.42889627e-01  9.32986380e-01 -2.64235254e-01\n",
      "   4.61367148e-01 -3.00580811e-01]\n",
      " [-1.10577801e+00  1.34889332e+00 -5.46154207e-01  7.72669835e-01\n",
      "   2.27530344e+00 -1.01108453e+00 -1.53460356e+00 -1.53840878e+00\n",
      "   1.98676179e+00  8.25670485e-01  2.25409843e+00 -4.54051123e-01\n",
      "   2.03072030e+00 -1.48296077e+00]\n",
      " [ 1.97363106e+00  3.01207495e-01  4.55563676e-01  9.27005724e-01\n",
      "  -6.01677941e-01  3.83944572e-01 -1.30092856e+00 -7.25609229e-01\n",
      "   3.03035946e-01 -1.92167329e-03  3.00266705e-01 -1.43519141e+00\n",
      "   8.82998783e-03 -1.00234190e+00]]\n"
     ]
    }
   ],
   "source": [
    "test_label = test_df['LABEL'].values\n",
    "test_sample_id = test_df['Sample_id'].values\n",
    "test_arr = test_df.drop(columns=['LABEL', 'Sample_id']).values\n",
    "print(test_arr[:5,:])\n"
   ]
  },
  {
   "cell_type": "code",
   "execution_count": 11,
   "metadata": {},
   "outputs": [
    {
     "data": {
      "text/plain": [
       "array([1, 1, 1, 1, 1, 1, 1, 1, 1, 1, 1, 1, 1, 1, 1, 1, 1, 1, 1, 1, 1, 1,\n",
       "       1, 1, 1, 1, 1, 1, 1, 1, 1, 1, 1, 1, 1, 1, 1, 1, 1, 1, 1, 1, 1, 1,\n",
       "       1, 1, 1, 1, 1, 1, 1, 1, 1, 1, 1, 1, 1, 1, 1, 1, 1, 1, 1, 1, 1, 1,\n",
       "       1, 1, 1, 1, 1, 1, 1, 1, 1, 1, 1, 1, 1, 1, 1, 1, 1, 1, 1, 1, 1, 1,\n",
       "       1, 1, 1, 1, 1, 1, 1, 1, 1, 1, 1, 1, 1, 1, 1, 1, 1, 1, 1, 1, 1, 1,\n",
       "       1, 1, 1, 1, 1, 1, 1, 1, 1, 1, 1, 0, 0, 0, 0, 0, 0, 0, 0, 0, 0, 0,\n",
       "       0, 0, 0, 0, 0, 0, 0, 0, 0, 0, 0, 0, 0, 0, 0, 0, 0, 0, 0, 0, 0, 0,\n",
       "       0, 0, 0, 0, 0, 0, 0, 0, 0, 0, 0, 0, 0, 0, 0, 0, 0, 0, 0, 0, 0, 0,\n",
       "       0, 0, 0, 0, 0, 0, 0, 0, 0, 0, 0, 0, 0, 0, 0, 0, 0, 0, 0, 0, 0, 0,\n",
       "       0, 0, 0, 0, 0, 0, 0, 0, 0, 0, 0, 0, 0, 0, 0, 0, 0, 0, 0, 0, 0, 0,\n",
       "       0, 0, 0, 0, 0, 0, 0, 0, 0, 0, 0, 0, 0, 0, 0, 0, 0, 0, 0, 0, 0, 0,\n",
       "       0, 0, 0, 0, 0, 0, 0, 0, 0, 0, 0, 0, 0, 0, 0, 0, 0, 0, 0, 0, 0, 0,\n",
       "       0, 0, 0, 0, 0, 0, 0, 0, 0, 0, 0, 0, 0, 0, 0, 0, 0])"
      ]
     },
     "execution_count": 11,
     "metadata": {},
     "output_type": "execute_result"
    }
   ],
   "source": [
    "test_label"
   ]
  },
  {
   "cell_type": "code",
   "execution_count": 12,
   "metadata": {},
   "outputs": [
    {
     "data": {
      "image/png": "[encoded data removed]",
      "text/plain": [
       "<Figure size 576x432 with 1 Axes>"
      ]
     },
     "metadata": {},
     "output_type": "display_data"
    },
    {
     "data": {
      "image/png": "[encoded data removed]",
      "text/plain": [
       "<Figure size 576x432 with 1 Axes>"
      ]
     },
     "metadata": {},
     "output_type": "display_data"
    }
   ],
   "source": [
    "\n",
    "fig, ax = plt.subplots()\n",
    "clf_disp = plot_roc_curve(ens_model, test_arr, test_label, name='Classifier', ax=ax)\n",
    "ax.plot([0, 1], [0, 1], linestyle='--', lw=2, color='r', alpha=.8)\n",
    "\n",
    "fig, ax = plt.subplots()\n",
    "disp = plot_precision_recall_curve(ens_model, test_arr, test_label, name='Classifier', ax=ax)\n",
    "# disp.ax_.set_title('AP={0:0.2f}'.format(average_precision))\n"
   ]
  },
  {
   "cell_type": "markdown",
   "metadata": {},
   "source": [
    "# Adjust the decision threshold to identify the operating point"
   ]
  },
  {
   "cell_type": "code",
   "execution_count": 14,
   "metadata": {},
   "outputs": [],
   "source": [
    "y_pred_prob = ens_model.predict_proba(test_arr)\n",
    "p, r, thresholds = precision_recall_curve(test_label, y_pred_prob[:,1])"
   ]
  },
  {
   "cell_type": "code",
   "execution_count": 34,
   "metadata": {},
   "outputs": [],
   "source": [
    "import itertools\n",
    "\n",
    "def plot_confusion_matrix(cm, classes, normalize=False, title='Confusion matrix', cmap=plt.cm.Blues):\n",
    "    \"\"\"\n",
    "    This function prints and plots the confusion matrix.\n",
    "    Normalization can be applied by setting `normalize=True`\n",
    "    \"\"\"\n",
    "    if normalize:\n",
    "        cm = cm.astype('float') / cm.sum(axis=1)[:, np.newaxis]\n",
    "        print(\"Normalized confusion matrix\")\n",
    "    else:\n",
    "        print('Confusion matrix, without normalization')\n",
    "    print(cm)\n",
    "    plt.imshow(cm, interpolation='nearest', cmap=cmap)\n",
    "    plt.title(title)\n",
    "    plt.colorbar()\n",
    "    tick_marks = np.arange(len(classes))\n",
    "    plt.xticks(tick_marks, classes)#, rotation=45)\n",
    "    plt.yticks(tick_marks, classes)\n",
    "    fmt = '.2f' if normalize else 'd'\n",
    "    thresh = cm.max() / 2.\n",
    "    for i, j in itertools.product(range(cm.shape[0]), range(cm.shape[1])):\n",
    "        plt.text(j, i, format(cm[i, j], fmt),\n",
    "                 horizontalalignment=\"center\",\n",
    "                 color=\"white\" if cm[i, j] > thresh else \"black\")\n",
    "    plt.tight_layout()\n",
    "    plt.ylabel('True label')\n",
    "    plt.xlabel('Predicted label')"
   ]
  },
  {
   "cell_type": "code",
   "execution_count": 52,
   "metadata": {},
   "outputs": [],
   "source": [
    "def adjusted_classes(y_scores, t):\n",
    "    \"\"\"\n",
    "    This function adjusts class predictions based on the prediction threshold (t).\n",
    "    Will only work for binary classification problems.\n",
    "    \"\"\"\n",
    "    return [1 if y >= t else 0 for y in y_scores]\n",
    "\n",
    "def precision_recall_threshold(p, r, thresholds, t=0.5):\n",
    "    \"\"\"\n",
    "    plots the precision recall curve and shows the current value for each\n",
    "    by identifying the classifier's threshold (t).\n",
    "    \"\"\"\n",
    "    \n",
    "    # generate new class predictions based on the adjusted_classes\n",
    "    # function above and view the resulting confusion matrix.\n",
    "    y_pred_adj = adjusted_classes(y_pred_prob[:,1], t)\n",
    "    \n",
    "    print('precision_score: {}'.format(precision_score(test_label, y_pred_adj)))\n",
    "    print('recall_score: {}'.format(recall_score(test_label, y_pred_adj)))\n",
    "    \n",
    "    cm = confusion_matrix(test_label, y_pred_adj)\n",
    "    print(pd.DataFrame(cm,\n",
    "                       columns=['pred_neg', 'pred_pos'], \n",
    "                       index=['neg', 'pos']))\n",
    "    \n",
    "    plot_confusion_matrix(cm, ['neg', 'pos'], title='')\n",
    "    \n",
    "    # plot the curve\n",
    "    plt.figure(figsize=(8,8))\n",
    "    plt.title(\"Precision and Recall curve\")\n",
    "    plt.step(r, p, color='b', alpha=0.2,\n",
    "             where='post')\n",
    "    plt.fill_between(r, p, step='post', alpha=0.2,\n",
    "                     color='b')\n",
    "    plt.ylim([0.5, 1.01]);\n",
    "    plt.xlim([0.5, 1.01]);\n",
    "    plt.xlabel('Recall');\n",
    "    plt.ylabel('Precision');\n",
    "    \n",
    "    # plot the current threshold on the line\n",
    "    close_default_clf = np.argmin(np.abs(thresholds - t))\n",
    "    plt.plot(r[close_default_clf], p[close_default_clf], '^', c='k',\n",
    "            markersize=15)"
   ]
  },
  {
   "cell_type": "code",
   "execution_count": 53,
   "metadata": {},
   "outputs": [
    {
     "name": "stdout",
     "output_type": "stream",
     "text": [
      "precision_score: 0.8928571428571429\n",
      "recall_score: 0.8264462809917356\n",
      "     pred_neg  pred_pos\n",
      "neg       148        12\n",
      "pos        21       100\n",
      "Confusion matrix, without normalization\n",
      "[[148  12]\n",
      " [ 21 100]]\n"
     ]
    },
    {
     "data": {
      "image/png": "[encoded data removed]",
      "text/plain": [
       "<Figure size 576x432 with 2 Axes>"
      ]
     },
     "metadata": {},
     "output_type": "display_data"
    },
    {
     "data": {
      "image/png": "[encoded data removed]",
      "text/plain": [
       "<Figure size 576x576 with 1 Axes>"
      ]
     },
     "metadata": {},
     "output_type": "display_data"
    }
   ],
   "source": [
    "precision_recall_threshold(p, r, thresholds, 0.5)"
   ]
  },
  {
   "cell_type": "code",
   "execution_count": 54,
   "metadata": {},
   "outputs": [
    {
     "name": "stdout",
     "output_type": "stream",
     "text": [
      "precision_score: 0.703030303030303\n",
      "recall_score: 0.9586776859504132\n",
      "     pred_neg  pred_pos\n",
      "neg       111        49\n",
      "pos         5       116\n",
      "Confusion matrix, without normalization\n",
      "[[111  49]\n",
      " [  5 116]]\n"
     ]
    },
    {
     "data": {
      "image/png": "[encoded data removed]",
      "text/plain": [
       "<Figure size 576x432 with 2 Axes>"
      ]
     },
     "metadata": {},
     "output_type": "display_data"
    },
    {
     "data": {
      "image/png": "[encoded data removed]",
      "text/plain": [
       "<Figure size 576x576 with 1 Axes>"
      ]
     },
     "metadata": {},
     "output_type": "display_data"
    }
   ],
   "source": [
    "precision_recall_threshold(p, r, thresholds, 0.10)\n",
    " "
   ]
  },
  {
   "cell_type": "code",
   "execution_count": 45,
   "metadata": {},
   "outputs": [],
   "source": [
    "def plot_precision_recall_vs_threshold(precisions, recalls, thresholds):\n",
    "    \"\"\"\n",
    "    Modified from:\n",
    "    Hands-On Machine learning with Scikit-Learn\n",
    "    and TensorFlow; p.89\n",
    "    \"\"\"\n",
    "    plt.figure(figsize=(8, 8))\n",
    "    plt.title(\"Precision and Recall as a function of the decision threshold\")\n",
    "    plt.plot(thresholds, precisions[:-1], \"b--\", label=\"Precision\")\n",
    "    plt.plot(thresholds, recalls[:-1], \"g-\", label=\"Recall\")\n",
    "    plt.ylabel(\"Score\")\n",
    "    plt.xlabel(\"Decision Threshold\")\n",
    "    plt.legend(loc='best')"
   ]
  },
  {
   "cell_type": "code",
   "execution_count": 46,
   "metadata": {},
   "outputs": [
    {
     "data": {
      "image/png": "[encoded data removed]",
      "text/plain": [
       "<Figure size 576x576 with 1 Axes>"
      ]
     },
     "metadata": {},
     "output_type": "display_data"
    }
   ],
   "source": [
    "plot_precision_recall_vs_threshold(p, r, thresholds)"
   ]
  },
  {
   "cell_type": "markdown",
   "metadata": {},
   "source": [
    "# read fp dataset"
   ]
  },
  {
   "cell_type": "code",
   "execution_count": 55,
   "metadata": {},
   "outputs": [],
   "source": [
    "fp_df = load_independent_data(seq_type='fp', chr='21', reload=True)"
   ]
  },
  {
   "cell_type": "code",
   "execution_count": 56,
   "metadata": {},
   "outputs": [
    {
     "name": "stdout",
     "output_type": "stream",
     "text": [
      "fp data size: (130, 15)\n"
     ]
    },
    {
     "data": {
      "text/html": [
       "<div>\n",
       "<style scoped>\n",
       "    .dataframe tbody tr th:only-of-type {\n",
       "        vertical-align: middle;\n",
       "    }\n",
       "\n",
       "    .dataframe tbody tr th {\n",
       "        vertical-align: top;\n",
       "    }\n",
       "\n",
       "    .dataframe thead th {\n",
       "        text-align: right;\n",
       "    }\n",
       "</style>\n",
       "<table border=\"1\" class=\"dataframe\">\n",
       "  <thead>\n",
       "    <tr style=\"text-align: right;\">\n",
       "      <th></th>\n",
       "      <th>AGE</th>\n",
       "      <th>HEIGHT</th>\n",
       "      <th>WEIGHT</th>\n",
       "      <th>GESTATIONAL_WEEKS_D</th>\n",
       "      <th>FF</th>\n",
       "      <th>BMI</th>\n",
       "      <th>SEQ_F_0</th>\n",
       "      <th>SEQ_F_1</th>\n",
       "      <th>SEQ_F_2</th>\n",
       "      <th>SEQ_F_3</th>\n",
       "      <th>SEQ_F_4</th>\n",
       "      <th>SEQ_F_5</th>\n",
       "      <th>SEQ_F_6</th>\n",
       "      <th>SEQ_F_7</th>\n",
       "      <th>Sample_id</th>\n",
       "    </tr>\n",
       "  </thead>\n",
       "  <tbody>\n",
       "    <tr>\n",
       "      <th>0</th>\n",
       "      <td>0.051944</td>\n",
       "      <td>0.022015</td>\n",
       "      <td>-0.644855</td>\n",
       "      <td>0.412553</td>\n",
       "      <td>-0.126836</td>\n",
       "      <td>-0.699659</td>\n",
       "      <td>-0.941358</td>\n",
       "      <td>-0.939944</td>\n",
       "      <td>-0.689436</td>\n",
       "      <td>-1.050349</td>\n",
       "      <td>-0.348207</td>\n",
       "      <td>-0.032607</td>\n",
       "      <td>-0.270727</td>\n",
       "      <td>0.329309</td>\n",
       "      <td>18B2567429</td>\n",
       "    </tr>\n",
       "    <tr>\n",
       "      <th>1</th>\n",
       "      <td>-0.701659</td>\n",
       "      <td>-0.962519</td>\n",
       "      <td>-0.214029</td>\n",
       "      <td>-0.719244</td>\n",
       "      <td>-0.142072</td>\n",
       "      <td>0.138403</td>\n",
       "      <td>0.042459</td>\n",
       "      <td>0.596319</td>\n",
       "      <td>-0.568290</td>\n",
       "      <td>-0.338557</td>\n",
       "      <td>-0.284406</td>\n",
       "      <td>-0.789343</td>\n",
       "      <td>-0.531346</td>\n",
       "      <td>-0.390685</td>\n",
       "      <td>18B2475907</td>\n",
       "    </tr>\n",
       "    <tr>\n",
       "      <th>2</th>\n",
       "      <td>0.526714</td>\n",
       "      <td>0.046735</td>\n",
       "      <td>0.051525</td>\n",
       "      <td>-0.564908</td>\n",
       "      <td>-0.116679</td>\n",
       "      <td>0.047328</td>\n",
       "      <td>-0.648337</td>\n",
       "      <td>-0.449760</td>\n",
       "      <td>-0.256306</td>\n",
       "      <td>-0.274244</td>\n",
       "      <td>-0.381344</td>\n",
       "      <td>-0.505431</td>\n",
       "      <td>-0.493974</td>\n",
       "      <td>-0.985304</td>\n",
       "      <td>17B5136086D</td>\n",
       "    </tr>\n",
       "    <tr>\n",
       "      <th>3</th>\n",
       "      <td>-1.095416</td>\n",
       "      <td>-0.174892</td>\n",
       "      <td>-1.103363</td>\n",
       "      <td>0.258217</td>\n",
       "      <td>0.587081</td>\n",
       "      <td>-1.138549</td>\n",
       "      <td>-0.271766</td>\n",
       "      <td>-1.109357</td>\n",
       "      <td>-0.783206</td>\n",
       "      <td>-0.443656</td>\n",
       "      <td>-0.357484</td>\n",
       "      <td>-0.462048</td>\n",
       "      <td>-0.706117</td>\n",
       "      <td>0.094431</td>\n",
       "      <td>17B4507789</td>\n",
       "    </tr>\n",
       "    <tr>\n",
       "      <th>4</th>\n",
       "      <td>0.712289</td>\n",
       "      <td>-1.947052</td>\n",
       "      <td>0.501414</td>\n",
       "      <td>-0.153345</td>\n",
       "      <td>-1.440395</td>\n",
       "      <td>1.430251</td>\n",
       "      <td>0.807159</td>\n",
       "      <td>0.108794</td>\n",
       "      <td>-0.714574</td>\n",
       "      <td>-0.025265</td>\n",
       "      <td>0.047264</td>\n",
       "      <td>0.041070</td>\n",
       "      <td>0.257231</td>\n",
       "      <td>0.432672</td>\n",
       "      <td>18B4480690</td>\n",
       "    </tr>\n",
       "  </tbody>\n",
       "</table>\n",
       "</div>"
      ],
      "text/plain": [
       "        AGE    HEIGHT    WEIGHT  GESTATIONAL_WEEKS_D        FF       BMI  \\\n",
       "0  0.051944  0.022015 -0.644855             0.412553 -0.126836 -0.699659   \n",
       "1 -0.701659 -0.962519 -0.214029            -0.719244 -0.142072  0.138403   \n",
       "2  0.526714  0.046735  0.051525            -0.564908 -0.116679  0.047328   \n",
       "3 -1.095416 -0.174892 -1.103363             0.258217  0.587081 -1.138549   \n",
       "4  0.712289 -1.947052  0.501414            -0.153345 -1.440395  1.430251   \n",
       "\n",
       "    SEQ_F_0   SEQ_F_1   SEQ_F_2   SEQ_F_3   SEQ_F_4   SEQ_F_5   SEQ_F_6  \\\n",
       "0 -0.941358 -0.939944 -0.689436 -1.050349 -0.348207 -0.032607 -0.270727   \n",
       "1  0.042459  0.596319 -0.568290 -0.338557 -0.284406 -0.789343 -0.531346   \n",
       "2 -0.648337 -0.449760 -0.256306 -0.274244 -0.381344 -0.505431 -0.493974   \n",
       "3 -0.271766 -1.109357 -0.783206 -0.443656 -0.357484 -0.462048 -0.706117   \n",
       "4  0.807159  0.108794 -0.714574 -0.025265  0.047264  0.041070  0.257231   \n",
       "\n",
       "    SEQ_F_7    Sample_id  \n",
       "0  0.329309   18B2567429  \n",
       "1 -0.390685   18B2475907  \n",
       "2 -0.985304  17B5136086D  \n",
       "3  0.094431   17B4507789  \n",
       "4  0.432672   18B4480690  "
      ]
     },
     "execution_count": 56,
     "metadata": {},
     "output_type": "execute_result"
    }
   ],
   "source": [
    "print('fp data size: {}'.format(fp_df.shape))\n",
    "fp_df.head()"
   ]
  },
  {
   "cell_type": "code",
   "execution_count": 57,
   "metadata": {},
   "outputs": [
    {
     "name": "stdout",
     "output_type": "stream",
     "text": [
      "[[ 0.05194415  0.02201468 -0.64485533  0.41255276 -0.12683635 -0.69965889\n",
      "  -0.94135825 -0.9399445  -0.68943588 -1.05034937 -0.34820728 -0.03260739\n",
      "  -0.27072689  0.32930893]\n",
      " [-0.70165856 -0.96251877 -0.21402947 -0.71924376 -0.14207191  0.13840261\n",
      "   0.04245867  0.59631912 -0.56829036 -0.33855704 -0.28440638 -0.78934259\n",
      "  -0.53134617 -0.39068516]\n",
      " [ 0.52671386  0.04673507  0.05152543 -0.56490787 -0.11667932  0.04732765\n",
      "  -0.64833652 -0.44975966 -0.25630639 -0.27424404 -0.38134378 -0.50543052\n",
      "  -0.49397378 -0.98530405]\n",
      " [-1.09541597 -0.17489201 -1.10336325  0.25821687  0.58708052 -1.138549\n",
      "  -0.27176591 -1.10935686 -0.78320573 -0.44365641 -0.35748366 -0.462048\n",
      "  -0.70611668  0.09443121]\n",
      " [ 0.71228852 -1.94705221  0.50141447 -0.1533455  -1.44039546  1.4302507\n",
      "   0.80715908  0.1087941  -0.71457441 -0.02526456  0.04726368  0.0410704\n",
      "   0.25723112  0.43267242]]\n"
     ]
    }
   ],
   "source": [
    "fp_sample_id = fp_df['Sample_id'].values\n",
    "fp_arr = fp_df.drop(columns=['Sample_id']).values\n",
    "print(fp_arr[:5,:])"
   ]
  },
  {
   "cell_type": "code",
   "execution_count": 58,
   "metadata": {},
   "outputs": [
    {
     "name": "stdout",
     "output_type": "stream",
     "text": [
      "[0 0 1 0 0 0 0 0 0 1 1 0 1 0 0 0 1 0 1 0 0 0 1 0 0 0 0 0 0 0 0 0 0 0 0 0 1\n",
      " 1 1 0 1 1 0 1 0 1 1 0 1 1 0 1 1 0 1 0 0 0 0 1 0 1 0 0 0 0 1 0 1 1 1 1 0 1\n",
      " 0 1 0 1 1 1 0 0 1 0 1 1 0 0 1 1 0 1 1 0 0 1 1 0 0 0 1 0 1 0 1 0 1 1 1 0 0\n",
      " 1 0 1 1 0 1 1 0 1 1 1 1 1 1 1 1 1 0 1]\n"
     ]
    }
   ],
   "source": [
    "fp_pred_prob = ens_model.predict_proba(fp_arr)\n",
    "fp_pred_label = ens_model.predict(fp_arr)\n",
    "print(fp_pred_label)"
   ]
  },
  {
   "cell_type": "code",
   "execution_count": 62,
   "metadata": {},
   "outputs": [],
   "source": [
    "fp_pred_adj = np.array(adjusted_classes(fp_pred_prob[:,1], 0.1))"
   ]
  },
  {
   "cell_type": "code",
   "execution_count": 63,
   "metadata": {},
   "outputs": [
    {
     "data": {
      "text/plain": [
       "(98, 32)"
      ]
     },
     "execution_count": 63,
     "metadata": {},
     "output_type": "execute_result"
    }
   ],
   "source": [
    "len(fp_pred_adj[fp_pred_adj==1]), len(fp_pred_adj[fp_pred_adj==0])"
   ]
  },
  {
   "cell_type": "code",
   "execution_count": 70,
   "metadata": {},
   "outputs": [
    {
     "data": {
      "text/plain": [
       "(0.7538461538461538, 0.24615384615384617)"
      ]
     },
     "execution_count": 70,
     "metadata": {},
     "output_type": "execute_result"
    }
   ],
   "source": [
    "len(fp_pred_adj[fp_pred_adj==1])/fp_df.shape[0], len(fp_pred_adj[fp_pred_adj==0])/fp_df.shape[0]"
   ]
  },
  {
   "cell_type": "markdown",
   "metadata": {},
   "source": [
    "# read fn dataset"
   ]
  },
  {
   "cell_type": "code",
   "execution_count": 64,
   "metadata": {},
   "outputs": [
    {
     "name": "stdout",
     "output_type": "stream",
     "text": [
      "fp data size: (17, 15)\n"
     ]
    },
    {
     "data": {
      "text/html": [
       "<div>\n",
       "<style scoped>\n",
       "    .dataframe tbody tr th:only-of-type {\n",
       "        vertical-align: middle;\n",
       "    }\n",
       "\n",
       "    .dataframe tbody tr th {\n",
       "        vertical-align: top;\n",
       "    }\n",
       "\n",
       "    .dataframe thead th {\n",
       "        text-align: right;\n",
       "    }\n",
       "</style>\n",
       "<table border=\"1\" class=\"dataframe\">\n",
       "  <thead>\n",
       "    <tr style=\"text-align: right;\">\n",
       "      <th></th>\n",
       "      <th>AGE</th>\n",
       "      <th>HEIGHT</th>\n",
       "      <th>WEIGHT</th>\n",
       "      <th>GESTATIONAL_WEEKS_D</th>\n",
       "      <th>FF</th>\n",
       "      <th>BMI</th>\n",
       "      <th>SEQ_F_0</th>\n",
       "      <th>SEQ_F_1</th>\n",
       "      <th>SEQ_F_2</th>\n",
       "      <th>SEQ_F_3</th>\n",
       "      <th>SEQ_F_4</th>\n",
       "      <th>SEQ_F_5</th>\n",
       "      <th>SEQ_F_6</th>\n",
       "      <th>SEQ_F_7</th>\n",
       "      <th>Sample_id</th>\n",
       "    </tr>\n",
       "  </thead>\n",
       "  <tbody>\n",
       "    <tr>\n",
       "      <th>0</th>\n",
       "      <td>0.163101</td>\n",
       "      <td>-0.765612</td>\n",
       "      <td>-0.644855</td>\n",
       "      <td>0.412553</td>\n",
       "      <td>0.723816</td>\n",
       "      <td>-0.430679</td>\n",
       "      <td>0.526115</td>\n",
       "      <td>1.036290</td>\n",
       "      <td>-1.327459</td>\n",
       "      <td>-1.246246</td>\n",
       "      <td>-1.062721</td>\n",
       "      <td>0.471350</td>\n",
       "      <td>-0.389387</td>\n",
       "      <td>0.059687</td>\n",
       "      <td>18B4304934</td>\n",
       "    </tr>\n",
       "    <tr>\n",
       "      <th>1</th>\n",
       "      <td>0.048647</td>\n",
       "      <td>-1.725768</td>\n",
       "      <td>-1.363271</td>\n",
       "      <td>-1.439478</td>\n",
       "      <td>-0.804819</td>\n",
       "      <td>-0.948018</td>\n",
       "      <td>1.013186</td>\n",
       "      <td>0.485530</td>\n",
       "      <td>0.258208</td>\n",
       "      <td>-0.296549</td>\n",
       "      <td>-0.535923</td>\n",
       "      <td>0.851792</td>\n",
       "      <td>-0.111873</td>\n",
       "      <td>0.382873</td>\n",
       "      <td>18B2720999</td>\n",
       "    </tr>\n",
       "    <tr>\n",
       "      <th>2</th>\n",
       "      <td>-0.278228</td>\n",
       "      <td>-0.492215</td>\n",
       "      <td>-0.736557</td>\n",
       "      <td>0.258217</td>\n",
       "      <td>0.248286</td>\n",
       "      <td>-0.629296</td>\n",
       "      <td>0.462343</td>\n",
       "      <td>0.634260</td>\n",
       "      <td>-0.562540</td>\n",
       "      <td>-1.037278</td>\n",
       "      <td>-0.630509</td>\n",
       "      <td>0.648083</td>\n",
       "      <td>-0.815498</td>\n",
       "      <td>0.124375</td>\n",
       "      <td>17B4711411</td>\n",
       "    </tr>\n",
       "    <tr>\n",
       "      <th>3</th>\n",
       "      <td>0.537076</td>\n",
       "      <td>-0.765612</td>\n",
       "      <td>-1.533063</td>\n",
       "      <td>-1.439478</td>\n",
       "      <td>-0.136993</td>\n",
       "      <td>-1.445400</td>\n",
       "      <td>-1.010010</td>\n",
       "      <td>1.258861</td>\n",
       "      <td>-0.880885</td>\n",
       "      <td>-0.412208</td>\n",
       "      <td>0.204002</td>\n",
       "      <td>-0.326578</td>\n",
       "      <td>-0.151507</td>\n",
       "      <td>0.661942</td>\n",
       "      <td>18B3453965</td>\n",
       "    </tr>\n",
       "    <tr>\n",
       "      <th>4</th>\n",
       "      <td>-0.590502</td>\n",
       "      <td>1.599783</td>\n",
       "      <td>0.946009</td>\n",
       "      <td>-0.873580</td>\n",
       "      <td>-0.147150</td>\n",
       "      <td>0.385018</td>\n",
       "      <td>0.353325</td>\n",
       "      <td>-0.125217</td>\n",
       "      <td>-0.291080</td>\n",
       "      <td>-0.003462</td>\n",
       "      <td>-0.389715</td>\n",
       "      <td>-0.295984</td>\n",
       "      <td>-0.379031</td>\n",
       "      <td>0.101176</td>\n",
       "      <td>18B3547618</td>\n",
       "    </tr>\n",
       "  </tbody>\n",
       "</table>\n",
       "</div>"
      ],
      "text/plain": [
       "        AGE    HEIGHT    WEIGHT  GESTATIONAL_WEEKS_D        FF       BMI  \\\n",
       "0  0.163101 -0.765612 -0.644855             0.412553  0.723816 -0.430679   \n",
       "1  0.048647 -1.725768 -1.363271            -1.439478 -0.804819 -0.948018   \n",
       "2 -0.278228 -0.492215 -0.736557             0.258217  0.248286 -0.629296   \n",
       "3  0.537076 -0.765612 -1.533063            -1.439478 -0.136993 -1.445400   \n",
       "4 -0.590502  1.599783  0.946009            -0.873580 -0.147150  0.385018   \n",
       "\n",
       "    SEQ_F_0   SEQ_F_1   SEQ_F_2   SEQ_F_3   SEQ_F_4   SEQ_F_5   SEQ_F_6  \\\n",
       "0  0.526115  1.036290 -1.327459 -1.246246 -1.062721  0.471350 -0.389387   \n",
       "1  1.013186  0.485530  0.258208 -0.296549 -0.535923  0.851792 -0.111873   \n",
       "2  0.462343  0.634260 -0.562540 -1.037278 -0.630509  0.648083 -0.815498   \n",
       "3 -1.010010  1.258861 -0.880885 -0.412208  0.204002 -0.326578 -0.151507   \n",
       "4  0.353325 -0.125217 -0.291080 -0.003462 -0.389715 -0.295984 -0.379031   \n",
       "\n",
       "    SEQ_F_7   Sample_id  \n",
       "0  0.059687  18B4304934  \n",
       "1  0.382873  18B2720999  \n",
       "2  0.124375  17B4711411  \n",
       "3  0.661942  18B3453965  \n",
       "4  0.101176  18B3547618  "
      ]
     },
     "execution_count": 64,
     "metadata": {},
     "output_type": "execute_result"
    }
   ],
   "source": [
    "fn_df = load_independent_data(seq_type='fn', chr='21', reload=True)\n",
    "print('fp data size: {}'.format(fn_df.shape))\n",
    "fn_df.head()"
   ]
  },
  {
   "cell_type": "code",
   "execution_count": 65,
   "metadata": {},
   "outputs": [
    {
     "name": "stdout",
     "output_type": "stream",
     "text": [
      "[[ 0.16310055 -0.76561208 -0.64485533  0.41255276  0.72381569 -0.43067933\n",
      "   0.52611471  1.03628961 -1.32745902 -1.24624559 -1.06272142  0.47134967\n",
      "  -0.38938652  0.05968679]\n",
      " [ 0.04864714 -1.72576752 -1.36327071 -1.43947791 -0.80481873 -0.94801796\n",
      "   1.01318629  0.48552983  0.25820836 -0.29654937 -0.53592341  0.85179206\n",
      "  -0.11187276  0.38287311]\n",
      " [-0.27822804 -0.49221549 -0.73655691  0.25821687  0.24828571 -0.6292957\n",
      "   0.46234271  0.63426039 -0.56253953 -1.03727797 -0.63050886  0.64808341\n",
      "  -0.81549817  0.12437523]\n",
      " [ 0.53707589 -0.76561208 -1.53306276 -1.43947791 -0.13699339 -1.44539975\n",
      "  -1.01001028  1.25886087 -0.88088523 -0.41220834  0.20400239 -0.32657781\n",
      "  -0.15150689  0.66194237]\n",
      " [-0.59050216  1.59978316  0.94600857 -0.87357965 -0.14715043  0.38501775\n",
      "   0.35332472 -0.12521729 -0.29108003 -0.00346207 -0.38971544 -0.29598448\n",
      "  -0.37903118  0.10117571]]\n"
     ]
    }
   ],
   "source": [
    "fn_sample_id = fn_df['Sample_id'].values\n",
    "fn_arr = fn_df.drop(columns=['Sample_id']).values\n",
    "print(fn_arr[:5,:])"
   ]
  },
  {
   "cell_type": "code",
   "execution_count": 66,
   "metadata": {},
   "outputs": [
    {
     "name": "stdout",
     "output_type": "stream",
     "text": [
      "[0 0 0 1 0 0 1 0 0 0 1 1 1 0 0 0 0]\n"
     ]
    }
   ],
   "source": [
    "fn_pred_prob = ens_model.predict_proba(fn_arr)\n",
    "fn_pred_label = ens_model.predict(fn_arr)\n",
    "print(fn_pred_label)"
   ]
  },
  {
   "cell_type": "code",
   "execution_count": 67,
   "metadata": {},
   "outputs": [],
   "source": [
    "fn_pred_adj = np.array(adjusted_classes(fn_pred_prob[:,1], 0.1))"
   ]
  },
  {
   "cell_type": "code",
   "execution_count": 68,
   "metadata": {},
   "outputs": [
    {
     "data": {
      "text/plain": [
       "(11, 6)"
      ]
     },
     "execution_count": 68,
     "metadata": {},
     "output_type": "execute_result"
    }
   ],
   "source": [
    "len(fn_pred_adj[fn_pred_adj==1]), len(fn_pred_adj[fn_pred_adj==0])"
   ]
  },
  {
   "cell_type": "code",
   "execution_count": 69,
   "metadata": {},
   "outputs": [
    {
     "data": {
      "text/plain": [
       "(0.6470588235294118, 0.35294117647058826)"
      ]
     },
     "execution_count": 69,
     "metadata": {},
     "output_type": "execute_result"
    }
   ],
   "source": [
    "len(fn_pred_adj[fn_pred_adj==1])/fn_df.shape[0], len(fn_pred_adj[fn_pred_adj==0])/fn_df.shape[0]"
   ]
  },
  {
   "cell_type": "code",
   "execution_count": null,
   "metadata": {},
   "outputs": [],
   "source": []
  }
 ],
 "metadata": {
  "kernelspec": {
   "display_name": "Python 3",
   "language": "python",
   "name": "python3"
  },
  "language_info": {
   "codemirror_mode": {
    "name": "ipython",
    "version": 3
   },
   "file_extension": ".py",
   "mimetype": "text/x-python",
   "name": "python",
   "nbconvert_exporter": "python",
   "pygments_lexer": "ipython3",
   "version": "3.6.8"
  }
 },
 "nbformat": 4,
 "nbformat_minor": 2
}
